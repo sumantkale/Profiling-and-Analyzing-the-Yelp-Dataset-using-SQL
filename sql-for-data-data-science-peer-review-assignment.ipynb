{
 "cells": [
  {
   "cell_type": "markdown",
   "id": "7f40255d",
   "metadata": {
    "papermill": {
     "duration": 0.019462,
     "end_time": "2022-03-20T10:07:30.524286",
     "exception": false,
     "start_time": "2022-03-20T10:07:30.504824",
     "status": "completed"
    },
    "tags": []
   },
   "source": [
    "# SQL for Data Data Science: Peer-review Assignment - Yelp Dataset\n",
    "\n",
    "### Introduction\n",
    "\n",
    "This is a 2-part assignment. In the first part, you are asked a series of questions that will help you profile and understand the data just like a data scientist would. For this first part of the assignment, you will be assessed both on the correctness of your findings, as well as the code you used to arrive at your answer. You will be graded on how easy your code is to read, so remember to use proper formatting and comments where necessary.\n",
    "\n",
    "In the second part of the assignment, you are asked to come up with your own inferences and analysis of the data for a particular research question you want to answer. You will be required to prepare the dataset for the analysis you choose to do. As with the first part, you will be graded, in part, on how easy your code is to read, so use proper formatting and comments to illustrate and communicate your intent as required.\n",
    "\n",
    "### Part 1: Yelp Dataset Profiling and Understanding\n",
    "\n",
    "#### 1. Profile the data by finding the total number of records for each of the tables below:\n",
    "\n",
    "* Attribute table = 10000\n",
    "\n",
    "> SELECT Count(*)  \n",
    "FROM attribute\n",
    "\n",
    "* Business table = 10000\n",
    "\n",
    "> SELECT Count(*)  \n",
    "FROM business\n",
    "\n",
    "* Category table = 10000\n",
    "\n",
    "> SELECT Count(*)  \n",
    "FROM category\n",
    "\n",
    "* Checkin table = 10000\n",
    "\n",
    "> SELECT Count(*)  \n",
    "FROM checkin\n",
    "\n",
    "* elite_years table = 10000\n",
    "\n",
    "> SELECT Count(*)  \n",
    "FROM elite_years\n",
    "\n",
    "* friend table = 10000\n",
    "\n",
    "> SELECT Count(*)  \n",
    "FROM friend\n",
    "\n",
    "* hours table = 10000\n",
    "\n",
    "> SELECT Count(*)  \n",
    "FROM hours\n",
    "\n",
    "* photo table = 10000\n",
    "\n",
    "> SELECT Count(*)  \n",
    "FROM photo\n",
    "\n",
    "* review table = 10000\n",
    "\n",
    "> SELECT Count(*)  \n",
    "FROM review\n",
    "\n",
    "* tip table = 10000\n",
    "\n",
    "> SELECT Count(*)  \n",
    "FROM tip\n",
    "\n",
    "* user table = 10000\n",
    "\n",
    "> SELECT Count(*)  \n",
    "FROM user"
   ]
  },
  {
   "cell_type": "markdown",
   "id": "9db0c30e",
   "metadata": {
    "papermill": {
     "duration": 0.017955,
     "end_time": "2022-03-20T10:07:30.560446",
     "exception": false,
     "start_time": "2022-03-20T10:07:30.542491",
     "status": "completed"
    },
    "tags": []
   },
   "source": [
    "#### 2. Find the total distinct records by either the foreign key or primary key for each table. If two foreign keys are listed in the table, please specify which foreign key.\n",
    "\n",
    "* Business (id) = 10000  \n",
    "\n",
    "> SELECT Count(distinct id)  \n",
    "FROM business\n",
    "\n",
    "* Hours (business_id) = 1562\n",
    "\n",
    "> SELECT Count(distinct business_id)  \n",
    "FROM hours\n",
    "\n",
    "* Category (business_id) = 2643\n",
    "\n",
    "> SELECT Count(distinct business_id)  \n",
    "FROM category\n",
    "\n",
    "* Attribute (business_id) = 1115\n",
    "\n",
    "> SELECT Count(distinct business_id)  \n",
    "FROM attribute\n",
    "\n",
    "* Review (id) = 10000 | (business_id) = 8090 | (user_id) = 9581\n",
    "\n",
    "> SELECT Count(distinct id)  \n",
    "FROM review\n",
    "\n",
    "> SELECT Count(distinct business_id)  \n",
    "FROM review\n",
    "\n",
    "> SELECT Count(distinct user_id)  \n",
    "FROM review\n",
    "\n",
    "* Checkin (business_id) = 493\n",
    "\n",
    "> SELECT Count(distinct business_id)  \n",
    "FROM checkin\n",
    "\n",
    "* Photo (id) = 10000 | (business_id) = 6493\n",
    "\n",
    "> SELECT Count(distinct id)  \n",
    "FROM photo\n",
    "\n",
    "> SELECT Count(distinct business_id)  \n",
    "FROM photo\n",
    "\n",
    "* Tip (user_id) =537 | (business_id) = 3979\n",
    "\n",
    "> SELECT Count(distinct user_id)  \n",
    "FROM tip\n",
    "\n",
    "> SELECT Count(distinct business_id)  \n",
    "FROM tip\n",
    "\n",
    "* User (id) = 10000\n",
    "\n",
    "> SELECT Count(distinct id)  \n",
    "FROM user\n",
    "\n",
    "* Friend (user_id) = 11\n",
    "\n",
    "> SELECT Count(distinct user_id)  \n",
    "FROM friend\n",
    "\n",
    "* Elite_years (user_id) = 2780\n",
    "\n",
    "> SELECT Count(distinct user_id  \n",
    "FROM elite_years\n",
    "\n",
    "Note: Primary Keys are denoted in the ER-Diagram with a yellow key icon.\n"
   ]
  },
  {
   "cell_type": "markdown",
   "id": "d31a6264",
   "metadata": {
    "papermill": {
     "duration": 0.017987,
     "end_time": "2022-03-20T10:07:30.596316",
     "exception": false,
     "start_time": "2022-03-20T10:07:30.578329",
     "status": "completed"
    },
    "tags": []
   },
   "source": [
    " #### 3. Are there any columns with null values in the Users table? Indicate \"yes,\" or \"no.\"\n",
    " \n",
    "Answer: No\n",
    "    \n",
    "SQL code used to arrive at answer:"
   ]
  },
  {
   "cell_type": "code",
   "execution_count": 1,
   "id": "6a612beb",
   "metadata": {
    "execution": {
     "iopub.execute_input": "2022-03-20T10:07:30.639388Z",
     "iopub.status.busy": "2022-03-20T10:07:30.636675Z",
     "iopub.status.idle": "2022-03-20T10:07:30.773692Z",
     "shell.execute_reply": "2022-03-20T10:07:30.772230Z"
    },
    "papermill": {
     "duration": 0.159816,
     "end_time": "2022-03-20T10:07:30.774015",
     "exception": true,
     "start_time": "2022-03-20T10:07:30.614199",
     "status": "failed"
    },
    "tags": []
   },
   "outputs": [
    {
     "ename": "ERROR",
     "evalue": "Error in parse(text = x, srcfile = src): <text>:3:6: unexpected symbol\n2: SELECT *\n3: FROM user\n        ^\n",
     "output_type": "error",
     "traceback": [
      "Error in parse(text = x, srcfile = src): <text>:3:6: unexpected symbol\n2: SELECT *\n3: FROM user\n        ^\nTraceback:\n"
     ]
    }
   ],
   "source": [
    "--\n",
    "SELECT *\n",
    "FROM user\n",
    "WHERE id IS NULL OR\n",
    "      name IS NULL OR\n",
    "      review_count IS NULL OR\n",
    "      yelping_since IS NULL OR\n",
    "      useful IS NULL OR\n",
    "      cool IS NULL OR\n",
    "      fans IS NULL OR\n",
    "      average_stars IS NULL OR\n",
    "      compliment_hot IS NULL OR\n",
    "      compliment_more IS NULL OR\n",
    "      compliment_profile IS NULL OR\n",
    "      compliment_cute IS NULL OR\n",
    "      compliment_list IS NULL OR\n",
    "      compliment_note IS NULL OR\n",
    "      compliment_plain IS NULL OR\n",
    "      compliment_cool IS NULL OR\n",
    "      compliment_funny IS NULL OR\n",
    "      compliment_writer IS NULL OR\n",
    "      compliment_photos IS NULL\n",
    "--"
   ]
  },
  {
   "cell_type": "markdown",
   "id": "d251c1b9",
   "metadata": {
    "papermill": {
     "duration": null,
     "end_time": null,
     "exception": null,
     "start_time": null,
     "status": "pending"
    },
    "tags": []
   },
   "source": [
    "#### 4. For each table and column listed below, display the smallest (minimum), largest (maximum), and average (mean) value for the following fields:\n",
    "\n",
    "\tTable: Review, Column: Stars\n",
    "\t\n",
    "\tmin: 1\t\tmax: 5\t\tavg: 3.7082\n",
    "    \n",
    "> SELECT min(stars)  \n",
    "FROM review\n",
    "\n",
    "> SELECT max(stars)  \n",
    "FROM review \n",
    "\n",
    "> SELECT avg(stars)  \n",
    "FROM review\n",
    "\n",
    "\tTable: Business, Column: Stars\n",
    "\t\n",
    "\tmin: 1\t\tmax: 5\t\tavg: 3.6549\n",
    "\n",
    "> SELECT min(stars)  \n",
    "FROM business\n",
    "\n",
    "> SELECT max(stars)  \n",
    "FROM business\n",
    "\n",
    "> SELECT avg(stars)  \n",
    "FROM business\n",
    "\n",
    "\tTable: Tip, Column: Likes\n",
    "\t\n",
    "\tmin: 0\t\tmax: 2\t\tavg: 0.0144\n",
    "\n",
    "> SELECT min(likes)  \n",
    "FROM tip\n",
    "\n",
    "> SELECT max(likes)  \n",
    "FROM tip\n",
    "\n",
    "> SELECT avg(likes)  \n",
    "FROM tip\n",
    "\n",
    "\tTable: Checkin, Column: Count\n",
    "\t\n",
    "\tmin: 1\t\tmax: 53\t\tavg: 1.9414\n",
    "\n",
    "> SELECT min(count)  \n",
    "FROM checkin\n",
    "\n",
    "> SELECT max(count)  \n",
    "FROM checkin\n",
    "\n",
    "> SELECT avg(count)  \n",
    "FROM checkin\n",
    "\n",
    "\tTable: User, Column: Review_count\n",
    "\t\n",
    "\tmin: 0\t\tmax: 2000\tavg: 24.2995\n",
    "\n",
    "> SELECT min(review_count)  \n",
    "FROM user\n",
    "\n",
    "> SELECT max(review_count)  \n",
    "FROM user\n",
    "\n",
    "> SELECT avg(review_count)  \n",
    "FROM user\n"
   ]
  },
  {
   "cell_type": "markdown",
   "id": "d61f3324",
   "metadata": {
    "papermill": {
     "duration": null,
     "end_time": null,
     "exception": null,
     "start_time": null,
     "status": "pending"
    },
    "tags": []
   },
   "source": [
    "#### 5. List the cities with the most reviews in descending order:  \n",
    "SQL code used to arrive at answer:"
   ]
  },
  {
   "cell_type": "code",
   "execution_count": null,
   "id": "86d27b06",
   "metadata": {
    "papermill": {
     "duration": null,
     "end_time": null,
     "exception": null,
     "start_time": null,
     "status": "pending"
    },
    "tags": []
   },
   "outputs": [],
   "source": [
    "SELECT \n",
    "    city, \n",
    "    sum(review_count) AS total_review\n",
    "FROM business\n",
    "GROUP BY city\n",
    "ORDER BY total_review DESC\n",
    "\n",
    "\n",
    "Copy and Paste the Result Below:\n",
    "\n",
    "+-----------------+--------------+\n",
    "| city            | total_review |\n",
    "+-----------------+--------------+\n",
    "| Las Vegas       |        82854 |\n",
    "| Phoenix         |        34503 |\n",
    "| Toronto         |        24113 |\n",
    "| Scottsdale      |        20614 |\n",
    "| Charlotte       |        12523 |\n",
    "| Henderson       |        10871 |\n",
    "| Tempe           |        10504 |\n",
    "| Pittsburgh      |         9798 |\n",
    "| Montréal        |         9448 |\n",
    "| Chandler        |         8112 |\n",
    "| Mesa            |         6875 |\n",
    "| Gilbert         |         6380 |\n",
    "| Cleveland       |         5593 |\n",
    "| Madison         |         5265 |\n",
    "| Glendale        |         4406 |\n",
    "| Mississauga     |         3814 |\n",
    "| Edinburgh       |         2792 |\n",
    "| Peoria          |         2624 |\n",
    "| North Las Vegas |         2438 |\n",
    "| Markham         |         2352 |\n",
    "| Champaign       |         2029 |\n",
    "| Stuttgart       |         1849 |\n",
    "| Surprise        |         1520 |\n",
    "| Lakewood        |         1465 |\n",
    "| Goodyear        |         1155 |\n",
    "+-----------------+--------------+\n",
    "\n",
    "(Output limit exceeded, 25 of 362 total rows shown)"
   ]
  },
  {
   "cell_type": "markdown",
   "id": "28ec9988",
   "metadata": {
    "papermill": {
     "duration": null,
     "end_time": null,
     "exception": null,
     "start_time": null,
     "status": "pending"
    },
    "tags": []
   },
   "source": [
    "#### 6. Find the distribution of star ratings to the business in the following cities:  \n",
    "\n",
    "i. Avon\n",
    "\n",
    "SQL code used to arrive at answer:\n"
   ]
  },
  {
   "cell_type": "code",
   "execution_count": null,
   "id": "5043c68f",
   "metadata": {
    "papermill": {
     "duration": null,
     "end_time": null,
     "exception": null,
     "start_time": null,
     "status": "pending"
    },
    "tags": []
   },
   "outputs": [],
   "source": [
    "SELECT \n",
    "    stars, \n",
    "    sum(review_count) AS stars_rating_count\n",
    "FROM business\n",
    "WHERE city = \"Avon\"\n",
    "GROUP BY stars\n",
    "\n",
    "\n",
    "Copy and Paste the Resulting Table Below (2 columns â€“ star rating and count):\n",
    " \n",
    "+-------+--------------------+\n",
    "| stars | stars_rating_count |\n",
    "+-------+--------------------+\n",
    "|   1.5 |                 10 |\n",
    "|   2.5 |                  6 |\n",
    "|   3.5 |                 88 |\n",
    "|   4.0 |                 21 |\n",
    "|   4.5 |                 31 |\n",
    "|   5.0 |                  3 |\n",
    "+-------+--------------------+"
   ]
  },
  {
   "cell_type": "markdown",
   "id": "fd75efe1",
   "metadata": {
    "papermill": {
     "duration": null,
     "end_time": null,
     "exception": null,
     "start_time": null,
     "status": "pending"
    },
    "tags": []
   },
   "source": [
    "ii. Beachwood\n",
    "\n",
    "SQL code used to arrive at answer:"
   ]
  },
  {
   "cell_type": "code",
   "execution_count": null,
   "id": "6baea621",
   "metadata": {
    "papermill": {
     "duration": null,
     "end_time": null,
     "exception": null,
     "start_time": null,
     "status": "pending"
    },
    "tags": []
   },
   "outputs": [],
   "source": [
    "SELECT \n",
    "    stars, \n",
    "    sum(review_count) AS stars_rating_count\n",
    "FROM business\n",
    "WHERE city = \"Beachwood\"\n",
    "GROUP BY stars\n",
    "\n",
    "\n",
    "Copy and Paste the Resulting Table Below (2 columns â€“ star rating and count):\n",
    "\n",
    "+-------+--------------------+\n",
    "| stars | stars_rating_count |\n",
    "+-------+--------------------+\n",
    "|   2.0 |                  8 |\n",
    "|   2.5 |                  3 |\n",
    "|   3.0 |                 11 |\n",
    "|   3.5 |                  6 |\n",
    "|   4.0 |                 69 |\n",
    "|   4.5 |                 17 |\n",
    "|   5.0 |                 23 |\n",
    "+-------+--------------------+"
   ]
  },
  {
   "cell_type": "markdown",
   "id": "b947b3f2",
   "metadata": {
    "papermill": {
     "duration": null,
     "end_time": null,
     "exception": null,
     "start_time": null,
     "status": "pending"
    },
    "tags": []
   },
   "source": [
    "#### 7. Find the top 3 users based on their total number of reviews:  \n",
    "\n",
    "SQL code used to arrive at answer:"
   ]
  },
  {
   "cell_type": "code",
   "execution_count": null,
   "id": "3ac75566",
   "metadata": {
    "papermill": {
     "duration": null,
     "end_time": null,
     "exception": null,
     "start_time": null,
     "status": "pending"
    },
    "tags": []
   },
   "outputs": [],
   "source": [
    "SELECT \n",
    "    name, \n",
    "    sum(review_count) AS review\n",
    "FROM user\n",
    "GROUP BY id\n",
    "ORDER BY review DESC\n",
    "LIMIT 3\n",
    "\n",
    "\n",
    "Copy and Paste the Result Below:\n",
    " \n",
    "+--------+--------+\n",
    "| name   | review |\n",
    "+--------+--------+\n",
    "| Gerald |   2000 |\n",
    "| Sara   |   1629 |\n",
    "| Yuri   |   1339 |\n",
    "+--------+--------+"
   ]
  },
  {
   "cell_type": "markdown",
   "id": "246e63c6",
   "metadata": {
    "papermill": {
     "duration": null,
     "end_time": null,
     "exception": null,
     "start_time": null,
     "status": "pending"
    },
    "tags": []
   },
   "source": [
    "#### 8. Does posing more reviews correlate with more fans?  \n",
    "\n",
    "Please explain your findings and interpretation of the results:\n",
    "\n",
    "Based on the result in the table below, we can see Gerald with a total of 2000 reviews but only 253 fans, that is an average of 7 fans per review. On the other hand, Sara has 1629 reviews but with only 50 fans; therefore, we can conclude that posing more reviews does not correlate with more fans. "
   ]
  },
  {
   "cell_type": "code",
   "execution_count": null,
   "id": "fe26dea7",
   "metadata": {
    "papermill": {
     "duration": null,
     "end_time": null,
     "exception": null,
     "start_time": null,
     "status": "pending"
    },
    "tags": []
   },
   "outputs": [],
   "source": [
    "SELECT \n",
    "    name, \n",
    "    sum(review_count) AS total_review, \n",
    "    fans, \n",
    "    sum(review_count)/fans AS avg_review_per_fan\n",
    "FROM user\n",
    "GROUP BY id\n",
    "ORDER BY total_review DESC\n",
    "\n",
    "\n",
    "Result Table:\n",
    "+-----------+--------------+------+--------------------+\n",
    "| name      | total_review | fans | avg_review_per_fan |\n",
    "+-----------+--------------+------+--------------------+\n",
    "| Gerald    |         2000 |  253 |                  7 |\n",
    "| Sara      |         1629 |   50 |                 32 |\n",
    "| Yuri      |         1339 |   76 |                 17 |\n",
    "| .Hon      |         1246 |  101 |                 12 |\n",
    "| William   |         1215 |  126 |                  9 |\n",
    "| Harald    |         1153 |  311 |                  3 |\n",
    "| eric      |         1116 |   16 |                 69 |\n",
    "| Roanna    |         1039 |  104 |                  9 |\n",
    "| Mimi      |          968 |  497 |                  1 |\n",
    "| Christine |          930 |  173 |                  5 |\n",
    "| Ed        |          904 |   38 |                 23 |\n",
    "| Nicole    |          864 |   43 |                 20 |\n",
    "| Fran      |          862 |  124 |                  6 |\n",
    "| Mark      |          861 |  115 |                  7 |\n",
    "| Christina |          842 |   85 |                  9 |\n",
    "| Dominic   |          836 |   37 |                 22 |\n",
    "| Lissa     |          834 |  120 |                  6 |\n",
    "| Lisa      |          813 |  159 |                  5 |\n",
    "| Alison    |          775 |   61 |                 12 |\n",
    "| Sui       |          754 |   78 |                  9 |\n",
    "| Tim       |          702 |   35 |                 20 |\n",
    "| L         |          696 |   10 |                 69 |\n",
    "| Angela    |          694 |  101 |                  6 |\n",
    "| Crissy    |          676 |   25 |                 27 |\n",
    "| Lyn       |          675 |   45 |                 15 |\n",
    "+-----------+--------------+------+--------------------+"
   ]
  },
  {
   "cell_type": "markdown",
   "id": "8d7b0caa",
   "metadata": {
    "papermill": {
     "duration": null,
     "end_time": null,
     "exception": null,
     "start_time": null,
     "status": "pending"
    },
    "tags": []
   },
   "source": [
    "#### 9. Are there more reviews with the word \"love\" or with the word \"hate\" in them?\n",
    "\n",
    "Answer: There are more reviews with the word “love”\n",
    "\n",
    "SQL code used to arrive at answer:"
   ]
  },
  {
   "cell_type": "code",
   "execution_count": null,
   "id": "87de3825",
   "metadata": {
    "papermill": {
     "duration": null,
     "end_time": null,
     "exception": null,
     "start_time": null,
     "status": "pending"
    },
    "tags": []
   },
   "outputs": [],
   "source": [
    "SELECT  \n",
    "    feelings, \n",
    "    count(*) AS total_count\n",
    "FROM (SELECT \n",
    "      CASE  WHEN text LIKE \"%love%\" THEN \"love\"\n",
    "            WHEN text LIKE \"%hate%\" THEN \"hate\"\n",
    "            ELSE \"Others\"\n",
    "            END feelings\n",
    "      FROM review)\n",
    "GROUP BY feelings\n",
    "ORDER BY total_count DESC\n",
    "\n",
    "\n",
    "+----------+-------------+\n",
    "| feelings | total_count |\n",
    "+----------+-------------+\n",
    "| Others   |        8042 |\n",
    "| love     |        1780 |\n",
    "| hate     |         178 |\n",
    "+----------+-------------+"
   ]
  },
  {
   "cell_type": "markdown",
   "id": "53bfc9fb",
   "metadata": {
    "papermill": {
     "duration": null,
     "end_time": null,
     "exception": null,
     "start_time": null,
     "status": "pending"
    },
    "tags": []
   },
   "source": [
    "#### 10. Find the top 10 users with the most fans:  \n",
    "\n",
    "SQL code used to arrive at answer:"
   ]
  },
  {
   "cell_type": "code",
   "execution_count": null,
   "id": "cc8035f5",
   "metadata": {
    "papermill": {
     "duration": null,
     "end_time": null,
     "exception": null,
     "start_time": null,
     "status": "pending"
    },
    "tags": []
   },
   "outputs": [],
   "source": [
    "SELECT \n",
    "    name, \n",
    "    sum(fans) AS total_fans\n",
    "FROM user\n",
    "GROUP BY id\n",
    "ORDER BY total_fans DESC\n",
    "LIMIT 10\n",
    "\n",
    "\n",
    "Copy and Paste the Result Below:\n",
    "\n",
    "+-----------+------------+\n",
    "| name      | total_fans |\n",
    "+-----------+------------+\n",
    "| Amy       |        503 |\n",
    "| Mimi      |        497 |\n",
    "| Harald    |        311 |\n",
    "| Gerald    |        253 |\n",
    "| Christine |        173 |\n",
    "| Lisa      |        159 |\n",
    "| Cat       |        133 |\n",
    "| William   |        126 |\n",
    "| Fran      |        124 |\n",
    "| Lissa     |        120 |\n",
    "+-----------+------------+"
   ]
  },
  {
   "cell_type": "markdown",
   "id": "fface22f",
   "metadata": {
    "papermill": {
     "duration": null,
     "end_time": null,
     "exception": null,
     "start_time": null,
     "status": "pending"
    },
    "tags": []
   },
   "source": [
    "### Part 2: Inferences and Analysis  \n",
    "\n",
    "#### 1. Pick one city and category of your choice and group the businesses in that city or category by their overall star rating. Compare the businesses with 2-3 stars to the businesses with 4-5 stars and answer the following questions. Include your code.\n",
    "\n",
    "i. Do the two groups you chose to analyze have a different distribution of hours?\n",
    "\n",
    "**I choose \"Las Vegas\" as city and \"Shopping\" as category.**\n",
    "       \n",
    "Yes, but not a huge difference. 2-3 stars has a total of 13 working days and 4-5 stars has 12."
   ]
  },
  {
   "cell_type": "code",
   "execution_count": null,
   "id": "1fc9a5ca",
   "metadata": {
    "papermill": {
     "duration": null,
     "end_time": null,
     "exception": null,
     "start_time": null,
     "status": "pending"
    },
    "tags": []
   },
   "outputs": [],
   "source": [
    "SELECT  CASE WHEN stars >= 4 THEN \"4-5 stars\"\n",
    "             WHEN stars >= 2 THEN \"2-3 stars\"\n",
    "             ELSE \"below 2\"\n",
    "             END star_rank,\n",
    "        city, \n",
    "        c.category,\n",
    "        count(distinct business.id) AS company_count,\n",
    "        count(h.hours) AS working_days\n",
    "FROM business\n",
    "JOIN hours h ON business.id = h.business_id\n",
    "JOIN category c ON business.id = c.business_id\n",
    "WHERE city = \"Las Vegas\" AND c.category = \"Shopping\"\n",
    "GROUP BY star_rank\n",
    "\n",
    "\n",
    "+-----------+-----------+----------+---------------+--------------+\n",
    "| star_rank | city      | category | company_count | working_days |\n",
    "+-----------+-----------+----------+---------------+--------------+\n",
    "| 2-3 stars | Las Vegas | Shopping |             2 |           13 |\n",
    "| 4-5 stars | Las Vegas | Shopping |             2 |           12 |\n",
    "+-----------+-----------+----------+---------------+--------------+ "
   ]
  },
  {
   "cell_type": "markdown",
   "id": "f4b4f1a5",
   "metadata": {
    "papermill": {
     "duration": null,
     "end_time": null,
     "exception": null,
     "start_time": null,
     "status": "pending"
    },
    "tags": []
   },
   "source": [
    "ii. Do the two groups you chose to analyze have a different number of reviews?\n",
    "\n",
    "Yes, the total number of reviews from 4-5 stars is doubled compared to 2-3 stars. "
   ]
  },
  {
   "cell_type": "code",
   "execution_count": null,
   "id": "4a22f91d",
   "metadata": {
    "papermill": {
     "duration": null,
     "end_time": null,
     "exception": null,
     "start_time": null,
     "status": "pending"
    },
    "tags": []
   },
   "outputs": [],
   "source": [
    "SELECT  CASE WHEN stars >= 4 THEN \"4-5 stars\"\n",
    "             WHEN stars >= 2 THEN \"2-3 stars\"\n",
    "             ELSE \"below 2\"\n",
    "             END star_rank,\n",
    "        city, \n",
    "        c.category,\n",
    "        count(distinct business.id) AS company_count,\n",
    "        sum(review_count) AS total_review\n",
    "FROM business\n",
    "JOIN category c ON business.id = c.business_id\n",
    "WHERE city = \"Las Vegas\" AND c.category = \"Shopping\"\n",
    "GROUP BY star_rank\n",
    "\n",
    "+-----------+-----------+----------+---------------+--------------+\n",
    "| star_rank | city      | category | company_count | total_review |\n",
    "+-----------+-----------+----------+---------------+--------------+\n",
    "| 2-3 stars | Las Vegas | Shopping |             2 |           17 |\n",
    "| 4-5 stars | Las Vegas | Shopping |             2 |           36 |\n",
    "+-----------+-----------+----------+---------------+--------------+"
   ]
  },
  {
   "cell_type": "markdown",
   "id": "acb581ca",
   "metadata": {
    "papermill": {
     "duration": null,
     "end_time": null,
     "exception": null,
     "start_time": null,
     "status": "pending"
    },
    "tags": []
   },
   "source": [
    "iii. Are you able to infer anything from the location data provided between these two groups? Explain.\n",
    "\n",
    "Stores that have 2-3 stars are within the same area, whereas 4-5 stars stores are apart from each other according to the result of postal code."
   ]
  },
  {
   "cell_type": "code",
   "execution_count": null,
   "id": "d0a6baf4",
   "metadata": {
    "papermill": {
     "duration": null,
     "end_time": null,
     "exception": null,
     "start_time": null,
     "status": "pending"
    },
    "tags": []
   },
   "outputs": [],
   "source": [
    "SQL code used for analysis:\n",
    "\n",
    "SELECT  CASE WHEN stars >= 4 THEN \"4-5 stars\"\n",
    "             WHEN stars >= 2 THEN \"2-3 stars\"\n",
    "             ELSE \"below 2\"\n",
    "             END star_rank,\n",
    "        address,\n",
    "        neighborhood,\n",
    "        city, \n",
    "        postal_code\n",
    "FROM business\n",
    "JOIN category c ON business.id = c.business_id\n",
    "WHERE city = \"Las Vegas\" AND c.category = \"Shopping\"\n",
    "ORDER BY star_rank\n",
    "\n",
    "\n",
    "+-----------+-----------------------------+--------------+-------------+\n",
    "| star_rank | address                     | neighborhood | postal_code |\n",
    "+-----------+-----------------------------+--------------+-------------+\n",
    "| 2-3 stars | 3421 E Tropicana Ave, Ste I | Southeast    | 89121       |\n",
    "| 2-3 stars | 3808 E Tropicana Ave        | Eastside     | 89121       |\n",
    "| 4-5 stars | 1000 Scenic Loop Dr         |              | 89161       |\n",
    "| 4-5 stars | 3555 W Reno Ave, Ste F      |              | 89118       |\n",
    "+-----------+-----------------------------+--------------+-------------+"
   ]
  },
  {
   "cell_type": "markdown",
   "id": "0f97060a",
   "metadata": {
    "papermill": {
     "duration": null,
     "end_time": null,
     "exception": null,
     "start_time": null,
     "status": "pending"
    },
    "tags": []
   },
   "source": [
    "#### 2. Group business based on the ones that are open and the ones that are closed. What differences can you find between the ones that are still open and the ones that are closed? List at least two differences and the SQL code you used to arrive at your answer.\n",
    "\n",
    "i. Difference 1: Total review is significantly higher between still open and closed businesses.\n",
    "         \n",
    "ii. Difference 2: The average stars given are very closed to each other 3.68 vs. 3.52. We can assume that businesses which are closed was not solely due to poor services / poor quality.\n",
    "         \n",
    "SQL code used for analysis:"
   ]
  },
  {
   "cell_type": "code",
   "execution_count": null,
   "id": "d85feb1f",
   "metadata": {
    "papermill": {
     "duration": null,
     "end_time": null,
     "exception": null,
     "start_time": null,
     "status": "pending"
    },
    "tags": []
   },
   "outputs": [],
   "source": [
    "SELECT  CASE    WHEN is_open = 1 THEN \"STILL OPEN\"\n",
    "                WHEN is_open = 0 THEN \"CLOSED\"\n",
    "                END status, \n",
    "        count(distinct id) AS num_company,\n",
    "        sum(review_count) AS total_review,\n",
    "        round(avg(review_count),2) AS avg_review,\n",
    "        round(avg(stars),2) AS avg_stars\n",
    "FROM business\n",
    "GROUP BY is_open\n",
    "ORDER BY status DESC\n",
    "\n",
    "\n",
    "+------------+-------------+--------------+------------+-----------+\n",
    "| status     | num_company | total_review | avg_review | avg_stars |\n",
    "+------------+-------------+--------------+------------+-----------+\n",
    "| STILL OPEN |        8480 |       269300 |      31.76 |      3.68 |\n",
    "| CLOSED     |        1520 |        35261 |       23.2 |      3.52 |\n",
    "+------------+-------------+--------------+------------+-----------+"
   ]
  },
  {
   "cell_type": "markdown",
   "id": "1bfd8a30",
   "metadata": {
    "papermill": {
     "duration": null,
     "end_time": null,
     "exception": null,
     "start_time": null,
     "status": "pending"
    },
    "tags": []
   },
   "source": [
    "#### 3. For this last part of your analysis, you are going to choose the type of analysis you want to conduct on the Yelp dataset and are going to prepare the data for analysis.\n",
    "\n",
    "Ideas for analysis include: Parsing out keywords and business attributes for sentiment analysis, clustering businesses to find commonalities or anomalies between them, predicting the overall star rating for a business, predicting the number of fans a user will have, and so on. These are just a few examples to get you started, so feel free to be creative and come up with your own problem you want to solve. Provide answers, in-line, to all of the following:\n",
    "\n",
    "i. Indicate the type of analysis you chose to do:\n",
    "\n",
    "The analysis is to find out what are the most successful businesses based on the business category.\n",
    "         \n",
    "ii. Write 1-2 brief paragraphs on the type of data you will need for your analysis and why you chose that data:\n",
    "\n",
    "In order to do this analysis, we will need data such as id, stars, and review count from the business table and category from category table. We will need to count the numbers of companies within each category, the average stars given by the consumers to see how they perform, and the total reviews given to see if the data is relevant and ensure it’s not biased. \n",
    "\n",
    "Lastly, we’re only going to look at categories with at least 10 companies and an average of 3.5+ stars to reduce any irrelevant data. \n",
    "                  \n",
    "iii. Output of your finished dataset:\n"
   ]
  },
  {
   "cell_type": "code",
   "execution_count": null,
   "id": "474f0440",
   "metadata": {
    "papermill": {
     "duration": null,
     "end_time": null,
     "exception": null,
     "start_time": null,
     "status": "pending"
    },
    "tags": []
   },
   "outputs": [],
   "source": [
    "+------------------------+---------------+-----------+---------------+\n",
    "| category               | num_companies | avg_stars | total_reviews |\n",
    "+------------------------+---------------+-----------+---------------+\n",
    "| Local Services         |            12 |      4.21 |           100 |\n",
    "| Active Life            |            10 |      4.15 |           131 |\n",
    "| Health & Medical       |            17 |      4.09 |           203 |\n",
    "| Home Services          |            16 |       4.0 |            94 |\n",
    "| Shopping               |            30 |      3.98 |           977 |\n",
    "| Beauty & Spas          |            13 |      3.88 |           119 |\n",
    "| American (Traditional) |            11 |      3.82 |          1128 |\n",
    "| Food                   |            23 |      3.78 |          1781 |\n",
    "| Bars                   |            17 |       3.5 |          1322 |\n",
    "+------------------------+---------------+-----------+---------------+"
   ]
  },
  {
   "cell_type": "markdown",
   "id": "4d59057b",
   "metadata": {
    "papermill": {
     "duration": null,
     "end_time": null,
     "exception": null,
     "start_time": null,
     "status": "pending"
    },
    "tags": []
   },
   "source": [
    "Provide the SQL code you used to create your final dataset:"
   ]
  },
  {
   "cell_type": "code",
   "execution_count": null,
   "id": "ba4f8c9e",
   "metadata": {
    "papermill": {
     "duration": null,
     "end_time": null,
     "exception": null,
     "start_time": null,
     "status": "pending"
    },
    "tags": []
   },
   "outputs": [],
   "source": [
    "SELECT  category, \n",
    "        count(distinct id) AS num_companies, \n",
    "        round(avg(stars),2) AS avg_stars,\n",
    "        sum(review_count) total_reviews\n",
    "FROM business\n",
    "JOIN category ON business.id = category.business_id\n",
    "GROUP BY category\n",
    "HAVING avg_stars >= 3.5 AND num_companies >= 10\n",
    "ORDER BY avg_stars DESC"
   ]
  }
 ],
 "metadata": {
  "kernelspec": {
   "display_name": "R",
   "language": "R",
   "name": "ir"
  },
  "language_info": {
   "codemirror_mode": "r",
   "file_extension": ".r",
   "mimetype": "text/x-r-source",
   "name": "R",
   "pygments_lexer": "r",
   "version": "4.0.5"
  },
  "papermill": {
   "default_parameters": {},
   "duration": 3.757774,
   "end_time": "2022-03-20T10:07:30.904638",
   "environment_variables": {},
   "exception": true,
   "input_path": "__notebook__.ipynb",
   "output_path": "__notebook__.ipynb",
   "parameters": {},
   "start_time": "2022-03-20T10:07:27.146864",
   "version": "2.3.3"
  }
 },
 "nbformat": 4,
 "nbformat_minor": 5
}
